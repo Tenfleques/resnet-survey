{
 "cells": [
  {
   "cell_type": "markdown",
   "metadata": {},
   "source": [
    "# ResNet Survey Task 3. \n",
    "\n",
    "using forked code from the implementation of ResNet on git@github.com:junyuseu/pytorch-cifar-models.git\n",
    "\n",
    "Based on paper by Kaiming He, Xiangyu Zhang, Shaoqing Ren, Jian Sun https://arxiv.org/pdf/1512.03385.pdf\n"
   ]
  },
  {
   "cell_type": "code",
   "execution_count": 2,
   "metadata": {
    "scrolled": true
   },
   "outputs": [
    {
     "name": "stdout",
     "output_type": "stream",
     "text": [
      "data\r\n",
      "gen_mean_std.py\r\n",
      "logs\r\n",
      "logs-3\r\n",
      "main.py\r\n",
      "main-reports.py\r\n",
      "models\r\n",
      "README.md\r\n",
      "requirements.txt\r\n",
      "resnet-survey-100.ipynb\r\n",
      "resnet-survey-100-parallel-run.ipynb\r\n",
      "resnet-survey-3-d-50-c-100.ipynb\r\n",
      "resnet-survey-3-d-50-d-62-c-10.ipynb\r\n",
      "resnet-survey-3-d-62-c-100.ipynb\r\n",
      "resnet-survey-3-rb-2.ipynb\r\n",
      "resnet-survey-3-tds-2-s-3-r-3-c-100-d-110.ipynb\r\n",
      "resnet-survey-3-tds-5.ipynb\r\n",
      "resnet-survey-3-tds-5-s-3-r-2.ipynb\r\n",
      "resnet-survey.ipynb\r\n",
      "result\r\n",
      "results.py\r\n",
      "run-3.sh\r\n",
      "run.sh\r\n"
     ]
    }
   ],
   "source": [
    "!ls"
   ]
  },
  {
   "cell_type": "markdown",
   "metadata": {},
   "source": [
    "## CIFAR-100 50 layers investigation"
   ]
  },
  {
   "cell_type": "markdown",
   "metadata": {},
   "source": [
    "Run the implementation for resnet-50"
   ]
  },
  {
   "cell_type": "code",
   "execution_count": 1,
   "metadata": {},
   "outputs": [
    {
     "name": "stdout",
     "output_type": "stream",
     "text": [
      "resnet-50 dataset-100 epochs 160, batch-size 128, learning rate 0.1, ground paramaters \n",
      " finished \n"
     ]
    }
   ],
   "source": [
    "!sh run.sh -d 50 -c 100"
   ]
  },
  {
   "cell_type": "code",
   "execution_count": null,
   "metadata": {},
   "outputs": [],
   "source": []
  }
 ],
 "metadata": {
  "kernelspec": {
   "display_name": "Pytorch-1.0.0",
   "language": "python",
   "name": "pytorch-1.0.0"
  },
  "language_info": {
   "codemirror_mode": {
    "name": "ipython",
    "version": 3
   },
   "file_extension": ".py",
   "mimetype": "text/x-python",
   "name": "python",
   "nbconvert_exporter": "python",
   "pygments_lexer": "ipython3",
   "version": "3.6.4"
  }
 },
 "nbformat": 4,
 "nbformat_minor": 2
}