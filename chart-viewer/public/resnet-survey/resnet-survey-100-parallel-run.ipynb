{
 "cells": [
  {
   "cell_type": "markdown",
   "metadata": {},
   "source": [
    "# ResNet Survey Task. \n",
    "\n",
    "using forked code from the implementation of ResNet on git@github.com:junyuseu/pytorch-cifar-models.git\n",
    "\n",
    "Based on paper by Kaiming He, Xiangyu Zhang, Shaoqing Ren, Jian Sun https://arxiv.org/pdf/1512.03385.pdf\n"
   ]
  },
  {
   "cell_type": "code",
   "execution_count": 3,
   "metadata": {
    "scrolled": true
   },
   "outputs": [
    {
     "name": "stdout",
     "output_type": "stream",
     "text": [
      "data\t\t logs\t  models     requirements.txt  run.sh\r\n",
      "gen_mean_std.py  main.py  README.md  result\r\n"
     ]
    }
   ],
   "source": [
    "!ls"
   ]
  },
  {
   "cell_type": "markdown",
   "metadata": {},
   "source": [
    "## CIFAR-100 investigation"
   ]
  },
  {
   "cell_type": "markdown",
   "metadata": {},
   "source": [
    "Run the implementation for resnet-20"
   ]
  },
  {
   "cell_type": "code",
   "execution_count": null,
   "metadata": {},
   "outputs": [
    {
     "name": "stdout",
     "output_type": "stream",
     "text": [
      "########## resnet-20 dataset-100 epochs 160, batch-size 128, learning rate 0.1, ground paramaters #########\n",
      "########## Adjusting the learning rate #############\n",
      "########## Adjusting the training epochs #############\n"
     ]
    }
   ],
   "source": [
    "!sh run.sh -c 100"
   ]
  },
  {
   "cell_type": "markdown",
   "metadata": {},
   "source": [
    "Run the implementation for resnet-56"
   ]
  },
  {
   "cell_type": "code",
   "execution_count": 4,
   "metadata": {},
   "outputs": [
    {
     "name": "stdout",
     "output_type": "stream",
     "text": [
      "########## Adjusting the learning rate #############\n",
      "########## Adjusting the training epochs #############\n",
      "########## Adjusting the size of mini-batch #############\n"
     ]
    }
   ],
   "source": [
    "!sh run.sh -d 56 -c 100"
   ]
  },
  {
   "cell_type": "markdown",
   "metadata": {},
   "source": [
    "Run the implementation for resnet-110"
   ]
  },
  {
   "cell_type": "code",
   "execution_count": null,
   "metadata": {},
   "outputs": [
    {
     "name": "stdout",
     "output_type": "stream",
     "text": [
      "########## resnet-110 dataset-100 epochs 160, batch-size 128, learning rate 0.1, ground paramaters #########\r\n"
     ]
    }
   ],
   "source": [
    "!sh run.sh -d 110 -c 100"
   ]
  },
  {
   "cell_type": "code",
   "execution_count": null,
   "metadata": {},
   "outputs": [],
   "source": []
  }
 ],
 "metadata": {
  "kernelspec": {
   "display_name": "Pytorch-1.0.0",
   "language": "python",
   "name": "pytorch-1.0.0"
  },
  "language_info": {
   "codemirror_mode": {
    "name": "ipython",
    "version": 3
   },
   "file_extension": ".py",
   "mimetype": "text/x-python",
   "name": "python",
   "nbconvert_exporter": "python",
   "pygments_lexer": "ipython3",
   "version": "3.6.4"
  }
 },
 "nbformat": 4,
 "nbformat_minor": 2
}
