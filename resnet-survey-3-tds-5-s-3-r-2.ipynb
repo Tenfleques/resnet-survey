{
 "cells": [
  {
   "cell_type": "markdown",
   "metadata": {},
   "source": [
    "# ResNet Survey Task 3. \n",
    "\n",
    "using forked code from the implementation of ResNet on git@github.com:junyuseu/pytorch-cifar-models.git\n",
    "\n",
    "Based on paper by Kaiming He, Xiangyu Zhang, Shaoqing Ren, Jian Sun https://arxiv.org/pdf/1512.03385.pdf\n"
   ]
  },
  {
   "cell_type": "code",
   "execution_count": 1,
   "metadata": {
    "scrolled": true
   },
   "outputs": [
    {
     "name": "stdout",
     "output_type": "stream",
     "text": [
      "data\t\t\t    resnet-survey-3-rb-3.ipynb\r\n",
      "gen_mean_std.py\t\t    resnet-survey-3-sc-0.ipynb\r\n",
      "logs\t\t\t    resnet-survey-3-sc-3.ipynb\r\n",
      "logs-3\t\t\t    resnet-survey-3-tds-2-Copy1.ipynb\r\n",
      "main.py\t\t\t    resnet-survey-3-tds-2-s-3-r-3-c-100-d-110.ipynb\r\n",
      "main-reports.py\t\t    resnet-survey-3-tds-5.ipynb\r\n",
      "models\t\t\t    resnet-survey-3-tds-5-s-3-r-2.ipynb\r\n",
      "README.md\t\t    result\r\n",
      "requirements.txt\t    results.py\r\n",
      "resnet-survey-3.ipynb\t    run-3.sh\r\n",
      "resnet-survey-3-rb-0.ipynb  run.sh\r\n",
      "resnet-survey-3-rb-2.ipynb\r\n"
     ]
    }
   ],
   "source": [
    "!ls"
   ]
  },
  {
   "cell_type": "markdown",
   "metadata": {},
   "source": [
    "## CIFAR-100 110 layers investigation"
   ]
  },
  {
   "cell_type": "markdown",
   "metadata": {},
   "source": [
    "Run the implementation for resnet-110"
   ]
  },
  {
   "cell_type": "code",
   "execution_count": null,
   "metadata": {},
   "outputs": [
    {
     "name": "stdout",
     "output_type": "stream",
     "text": [
      " Adjusting the residual-blocks 2\r\n"
     ]
    }
   ],
   "source": [
    "!sh run-3.sh -d 110 -c 100 -t 5 -s 1 -r 2"
   ]
  },
  {
   "cell_type": "code",
   "execution_count": null,
   "metadata": {},
   "outputs": [],
   "source": []
  }
 ],
 "metadata": {
  "kernelspec": {
   "display_name": "Pytorch-1.0.0",
   "language": "python",
   "name": "pytorch-1.0.0"
  },
  "language_info": {
   "codemirror_mode": {
    "name": "ipython",
    "version": 3
   },
   "file_extension": ".py",
   "mimetype": "text/x-python",
   "name": "python",
   "nbconvert_exporter": "python",
   "pygments_lexer": "ipython3",
   "version": "3.6.4"
  }
 },
 "nbformat": 4,
 "nbformat_minor": 2
}
