{
 "cells": [
  {
   "cell_type": "markdown",
   "metadata": {},
   "source": [
    "# ResNet Survey Task 3. \n",
    "\n",
    "using forked code from the implementation of ResNet on git@github.com:junyuseu/pytorch-cifar-models.git\n",
    "\n",
    "Based on paper by Kaiming He, Xiangyu Zhang, Shaoqing Ren, Jian Sun https://arxiv.org/pdf/1512.03385.pdf\n"
   ]
  },
  {
   "cell_type": "code",
   "execution_count": 1,
   "metadata": {
    "scrolled": true
   },
   "outputs": [
    {
     "name": "stdout",
     "output_type": "stream",
     "text": [
      "data\t\t\t    resnet-survey-3-rb-3.ipynb\r\n",
      "gen_mean_std.py\t\t    resnet-survey-3-sc-0.ipynb\r\n",
      "logs\t\t\t    resnet-survey-3-sc-1.ipynb\r\n",
      "main.py\t\t\t    resnet-survey-3-sc-3.ipynb\r\n",
      "main-reports.py\t\t    resnet-survey-3-tds-2-Copy1.ipynb\r\n",
      "models\t\t\t    resnet-survey-3-tds-2.ipynb\r\n",
      "README.md\t\t    resnet-survey-3-tds-5.ipynb\r\n",
      "requirements.txt\t    result\r\n",
      "resnet-survey-3.ipynb\t    results.py\r\n",
      "resnet-survey-3-rb-0.ipynb  run-3.sh\r\n",
      "resnet-survey-3-rb-2.ipynb  run.sh\r\n"
     ]
    }
   ],
   "source": [
    "!ls"
   ]
  },
  {
   "cell_type": "markdown",
   "metadata": {},
   "source": [
    "## CIFAR-100 110 layers investigation"
   ]
  },
  {
   "cell_type": "markdown",
   "metadata": {},
   "source": [
    "Run the implementation for resnet-110 for training dataset 0.2 size, skip connections 3 and then residual blocks 3"
   ]
  },
  {
   "cell_type": "code",
   "execution_count": 8,
   "metadata": {},
   "outputs": [
    {
     "name": "stdout",
     "output_type": "stream",
     "text": [
      "resnet-110 dataset-100 epochs 160, batch-size 128, learning rate 0.1, ground paramaters \n",
      " Adjusting the residual-blocks 3\n",
      " Adjusting the skipping connections = 3\n",
      " Adjusting the training data size connections = 0.2 \n",
      " finished \n"
     ]
    }
   ],
   "source": [
    "!sh run-3.sh -d 110 -c 100 -t 2 -s 3 -r 3"
   ]
  }
 ],
 "metadata": {
  "kernelspec": {
   "display_name": "Pytorch-1.0.0",
   "language": "python",
   "name": "pytorch-1.0.0"
  },
  "language_info": {
   "codemirror_mode": {
    "name": "ipython",
    "version": 3
   },
   "file_extension": ".py",
   "mimetype": "text/x-python",
   "name": "python",
   "nbconvert_exporter": "python",
   "pygments_lexer": "ipython3",
   "version": "3.6.4"
  }
 },
 "nbformat": 4,
 "nbformat_minor": 2
}
